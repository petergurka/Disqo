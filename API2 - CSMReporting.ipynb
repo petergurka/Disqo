{
 "cells": [
  {
   "cell_type": "code",
   "execution_count": 1,
   "metadata": {},
   "outputs": [],
   "source": [
    "import pandas as pd\n",
    "import numpy as np\n",
    "import datetime as dt\n",
    "import sys\n",
    "import pandas_redshift as pr\n",
    "import json\n",
    "import requests"
   ]
  },
  {
   "cell_type": "code",
   "execution_count": 2,
   "metadata": {},
   "outputs": [],
   "source": [
    "job_start=dt.datetime.utcnow()"
   ]
  },
  {
   "cell_type": "markdown",
   "metadata": {},
   "source": [
    "#### Intake Data"
   ]
  },
  {
   "cell_type": "code",
   "execution_count": 3,
   "metadata": {},
   "outputs": [],
   "source": [
    "folder=\"/Users/peter.gurka/Google Drive/My Drive/Self Serve Reporting/API 2 API Project Data Request/\"\n",
    "input_df=pd.read_excel(folder + \"Intake Sheet - API2.xlsx\", sheet_name='Data', usecols='A')\n",
    "request_df=pd.read_excel(folder + \"Intake Sheet - API2.xlsx\", sheet_name='Request', usecols='A:B', dtype={'B':str})"
   ]
  },
  {
   "cell_type": "code",
   "execution_count": 4,
   "metadata": {},
   "outputs": [
    {
     "data": {
      "text/html": [
       "<div>\n",
       "<style scoped>\n",
       "    .dataframe tbody tr th:only-of-type {\n",
       "        vertical-align: middle;\n",
       "    }\n",
       "\n",
       "    .dataframe tbody tr th {\n",
       "        vertical-align: top;\n",
       "    }\n",
       "\n",
       "    .dataframe thead th {\n",
       "        text-align: right;\n",
       "    }\n",
       "</style>\n",
       "<table border=\"1\" class=\"dataframe\">\n",
       "  <thead>\n",
       "    <tr style=\"text-align: right;\">\n",
       "      <th></th>\n",
       "      <th>Field</th>\n",
       "      <th>Value</th>\n",
       "    </tr>\n",
       "  </thead>\n",
       "  <tbody>\n",
       "    <tr>\n",
       "      <th>0</th>\n",
       "      <td>Initials of Requester</td>\n",
       "      <td>OR</td>\n",
       "    </tr>\n",
       "    <tr>\n",
       "      <th>1</th>\n",
       "      <td>Request Title</td>\n",
       "      <td>OliviaThinkNowDrops</td>\n",
       "    </tr>\n",
       "    <tr>\n",
       "      <th>2</th>\n",
       "      <td>Provider</td>\n",
       "      <td>Think Now'</td>\n",
       "    </tr>\n",
       "    <tr>\n",
       "      <th>3</th>\n",
       "      <td>Activity ID</td>\n",
       "      <td>NaN</td>\n",
       "    </tr>\n",
       "    <tr>\n",
       "      <th>4</th>\n",
       "      <td>Start Date</td>\n",
       "      <td>2022-02-03 00:00:00</td>\n",
       "    </tr>\n",
       "    <tr>\n",
       "      <th>5</th>\n",
       "      <td>End Date</td>\n",
       "      <td>2022-02-03 00:00:00</td>\n",
       "    </tr>\n",
       "    <tr>\n",
       "      <th>6</th>\n",
       "      <td>Conversion Status ID</td>\n",
       "      <td>NaN</td>\n",
       "    </tr>\n",
       "    <tr>\n",
       "      <th>7</th>\n",
       "      <td>Conversion Status ID - NULL</td>\n",
       "      <td>Yes</td>\n",
       "    </tr>\n",
       "    <tr>\n",
       "      <th>8</th>\n",
       "      <td>User IDs</td>\n",
       "      <td>NaN</td>\n",
       "    </tr>\n",
       "    <tr>\n",
       "      <th>9</th>\n",
       "      <td>Business Line</td>\n",
       "      <td>NaN</td>\n",
       "    </tr>\n",
       "  </tbody>\n",
       "</table>\n",
       "</div>"
      ],
      "text/plain": [
       "                         Field                Value\n",
       "0        Initials of Requester                   OR\n",
       "1                Request Title  OliviaThinkNowDrops\n",
       "2                     Provider           Think Now'\n",
       "3                  Activity ID                  NaN\n",
       "4                   Start Date  2022-02-03 00:00:00\n",
       "5                     End Date  2022-02-03 00:00:00\n",
       "6         Conversion Status ID                  NaN\n",
       "7  Conversion Status ID - NULL                  Yes\n",
       "8                     User IDs                  NaN\n",
       "9                Business Line                  NaN"
      ]
     },
     "execution_count": 4,
     "metadata": {},
     "output_type": "execute_result"
    }
   ],
   "source": [
    "request_df"
   ]
  },
  {
   "cell_type": "code",
   "execution_count": 5,
   "metadata": {},
   "outputs": [
    {
     "data": {
      "text/html": [
       "<div>\n",
       "<style scoped>\n",
       "    .dataframe tbody tr th:only-of-type {\n",
       "        vertical-align: middle;\n",
       "    }\n",
       "\n",
       "    .dataframe tbody tr th {\n",
       "        vertical-align: top;\n",
       "    }\n",
       "\n",
       "    .dataframe thead th {\n",
       "        text-align: right;\n",
       "    }\n",
       "</style>\n",
       "<table border=\"1\" class=\"dataframe\">\n",
       "  <thead>\n",
       "    <tr style=\"text-align: right;\">\n",
       "      <th></th>\n",
       "      <th>Attributes</th>\n",
       "    </tr>\n",
       "  </thead>\n",
       "  <tbody>\n",
       "    <tr>\n",
       "      <th>0</th>\n",
       "      <td>provider</td>\n",
       "    </tr>\n",
       "    <tr>\n",
       "      <th>1</th>\n",
       "      <td>activity_id</td>\n",
       "    </tr>\n",
       "    <tr>\n",
       "      <th>2</th>\n",
       "      <td>user_id</td>\n",
       "    </tr>\n",
       "    <tr>\n",
       "      <th>3</th>\n",
       "      <td>datetime_pt</td>\n",
       "    </tr>\n",
       "    <tr>\n",
       "      <th>4</th>\n",
       "      <td>survey_status_name</td>\n",
       "    </tr>\n",
       "  </tbody>\n",
       "</table>\n",
       "</div>"
      ],
      "text/plain": [
       "           Attributes\n",
       "0            provider\n",
       "1         activity_id\n",
       "2             user_id\n",
       "3         datetime_pt\n",
       "4  survey_status_name"
      ]
     },
     "execution_count": 5,
     "metadata": {},
     "output_type": "execute_result"
    }
   ],
   "source": [
    "input_df.head()"
   ]
  },
  {
   "cell_type": "code",
   "execution_count": 6,
   "metadata": {},
   "outputs": [],
   "source": [
    "date = dt.datetime.today().date()\n",
    "\n",
    "initials = request_df['Value'][0]\n",
    "subject = request_df['Value'][1]"
   ]
  },
  {
   "cell_type": "code",
   "execution_count": 7,
   "metadata": {},
   "outputs": [],
   "source": [
    "#WHERE FILTERS\n",
    "provider = request_df['Value'][2]\n",
    "activity_id = request_df['Value'][3]\n",
    "start_date = request_df['Value'][4]\n",
    "end_date = request_df['Value'][5]\n",
    "conversion_status = request_df['Value'][6]\n",
    "conversion_status_null = request_df['Value'][7]\n",
    "user_id = request_df['Value'][8]\n",
    "business_line = request_df['Value'][9]"
   ]
  },
  {
   "cell_type": "code",
   "execution_count": 8,
   "metadata": {},
   "outputs": [],
   "source": [
    "from random import randint\n",
    "rand=randint(1, 99)"
   ]
  },
  {
   "cell_type": "markdown",
   "metadata": {},
   "source": [
    "#### Post on Slack"
   ]
  },
  {
   "cell_type": "code",
   "execution_count": 9,
   "metadata": {},
   "outputs": [],
   "source": [
    "webhook_url = 'https://xxxx'"
   ]
  },
  {
   "cell_type": "code",
   "execution_count": 10,
   "metadata": {},
   "outputs": [],
   "source": [
    "slack_message_start = \"\"\"{0}'s API2 (CSM) request for {1} has started\"\"\".format(initials, subject)\n",
    "slack_data = {'text': slack_message_start}"
   ]
  },
  {
   "cell_type": "code",
   "execution_count": 11,
   "metadata": {},
   "outputs": [],
   "source": [
    "response = requests.post(\n",
    "    webhook_url, data = json.dumps(slack_data),\n",
    "    headers={'Content-Type': 'application/json'})\n",
    "if response.status_code != 200:\n",
    "    raise ValueError(\n",
    "        'Request to slack returned an error %s, the response is:\\n%s'\n",
    "        % (response.status_code, response.text))"
   ]
  },
  {
   "cell_type": "markdown",
   "metadata": {},
   "source": [
    "#### Query Elements"
   ]
  },
  {
   "cell_type": "code",
   "execution_count": 12,
   "metadata": {},
   "outputs": [],
   "source": [
    "#WHERE FILTERS\n",
    "filters = []\n",
    "\n",
    "if pd.notnull(provider):\n",
    "    filters.append(\"\"\"provider in ('{provider})\"\"\".format(provider=provider))\n",
    "if pd.notnull(activity_id):\n",
    "    filters.append(\"\"\"vuab.activity_id in ('{activity_id})\"\"\".format(activity_id=activity_id))\n",
    "if pd.notnull(start_date):\n",
    "    filters.append(\"\"\"DATE(vuab.click_event_datetime_pt) >= '{start_date}'\"\"\".format(start_date=start_date))\n",
    "if pd.notnull(end_date):\n",
    "    filters.append(\"\"\"DATE(vuab.click_event_datetime_pt) <= '{end_date}'\"\"\".format(end_date=end_date))\n",
    "if pd.notnull(user_id):\n",
    "    filters.append(\"\"\"vuab.user_id in ({user_id})\"\"\".format(user_id=user_id))\n",
    "if pd.notnull(business_line):\n",
    "    filters.append(\"\"\"vuab.business_line = '{business_line}'\"\"\".format(business_line=business_line))\n",
    "\n",
    "#Conversion Filters\n",
    "if pd.notnull(conversion_status) and conversion_status_null=='Yes':\n",
    "    filters.append(\"\"\"(vuab.conversion_status_id in ({conversion_status}) or (vuab.conversion_status_id IS NULL))\"\"\"\n",
    "                   .format(conversion_status=conversion_status))\n",
    "elif pd.notnull(conversion_status) and conversion_status_null=='No':\n",
    "    filters.append(\"\"\"vuab.conversion_status_id in ({conversion_status})\"\"\"\n",
    "                   .format(conversion_status=conversion_status))\n",
    "elif pd.isnull(conversion_status) and conversion_status_null=='Yes':\n",
    "    filters.append(\"\"\"vuab.conversion_status_id IS NULL\"\"\")"
   ]
  },
  {
   "cell_type": "code",
   "execution_count": 13,
   "metadata": {},
   "outputs": [],
   "source": [
    "#ATTRIBUTES\n",
    "attributes_list = list(input_df['Attributes'])\n",
    "attributes = []\n",
    "\n",
    "if 'provider' in attributes_list:\n",
    "    attributes.append(\"\"\"CASE WHEN vuab.provider_id != 18 THEN vuab.provider_name WHEN vuab.provider_id = 18 THEN p.provider_buyer_name END AS provider\"\"\")\n",
    "if 'activity_id' in attributes_list:\n",
    "    attributes.append(\"\"\"vuab.activity_id AS survey_id\"\"\")\n",
    "if 'user_id' in attributes_list:\n",
    "    attributes.append(\"\"\"vuab.user_id\"\"\")\n",
    "if 'datetime_pt' in attributes_list:\n",
    "    attributes.append(\"\"\"vuab.click_event_datetime_pt\"\"\")\n",
    "if 'survey_status_name' in attributes_list:\n",
    "    attributes.append(\"\"\"CASE WHEN vuab.conversion_status_id IS NULL THEN 'DropOff' ELSE CONCAT(CONCAT(ss.survey_status_id, ' '), ss.survey_status_name) END AS survey_status_name\"\"\")\n",
    "if 'click_financial_cpi' in attributes_list:\n",
    "    attributes.append(\"\"\"vuab.click_financial_cpi\"\"\")\n",
    "if 'financial_points_promised' in attributes_list:\n",
    "    attributes.append(\"\"\"vuab.financial_points_promised\"\"\")\n",
    "if 'click_uuid' in attributes_list:\n",
    "    attributes.append(\"\"\"vuab.click_uuid\"\"\")"
   ]
  },
  {
   "cell_type": "markdown",
   "metadata": {},
   "source": [
    "#### Query Strings"
   ]
  },
  {
   "cell_type": "code",
   "execution_count": 14,
   "metadata": {},
   "outputs": [
    {
     "data": {
      "text/plain": [
       "\"provider in ('Think Now') and DATE(vuab.click_event_datetime_pt) >= '2022-02-03 00:00:00' and DATE(vuab.click_event_datetime_pt) <= '2022-02-03 00:00:00' and vuab.conversion_status_id IS NULL\""
      ]
     },
     "execution_count": 14,
     "metadata": {},
     "output_type": "execute_result"
    }
   ],
   "source": [
    "filters_str = ' and '.join(filters)\n",
    "filters_str"
   ]
  },
  {
   "cell_type": "code",
   "execution_count": 15,
   "metadata": {},
   "outputs": [
    {
     "data": {
      "text/plain": [
       "\"CASE WHEN vuab.provider_id != 18 THEN vuab.provider_name WHEN vuab.provider_id = 18 THEN p.provider_buyer_name END AS provider, vuab.activity_id AS survey_id, vuab.user_id, vuab.click_event_datetime_pt, CASE WHEN vuab.conversion_status_id IS NULL THEN 'DropOff' ELSE CONCAT(CONCAT(ss.survey_status_id, ' '), ss.survey_status_name) END AS survey_status_name\""
      ]
     },
     "execution_count": 15,
     "metadata": {},
     "output_type": "execute_result"
    }
   ],
   "source": [
    "attributes_str = ', '.join(attributes)\n",
    "attributes_str"
   ]
  },
  {
   "cell_type": "markdown",
   "metadata": {},
   "source": [
    "#### Data Request Pull"
   ]
  },
  {
   "cell_type": "code",
   "execution_count": 16,
   "metadata": {},
   "outputs": [],
   "source": [
    "# tablename = \"\"\"stg_data_genie.API2_{0}_{1}_{2}_{3}\"\"\".format(date.strftime(\"%Y-%m-%d\").replace(\"-\",\"\"), initials, subject, rand)\n",
    "# tablename"
   ]
  },
  {
   "cell_type": "code",
   "execution_count": 17,
   "metadata": {},
   "outputs": [],
   "source": [
    "server='xxxx'\n",
    "port='5439'\n",
    "dbase='xxx'\n",
    "user='xxx'\n",
    "password='xxx'\n",
    "\n",
    "pr.connect_to_redshift(dbname = dbase,\n",
    "                       host = server,\n",
    "                       port = port,\n",
    "                       user = user,\n",
    "                       password = password)"
   ]
  },
  {
   "cell_type": "code",
   "execution_count": 18,
   "metadata": {},
   "outputs": [
    {
     "data": {
      "text/plain": [
       "91"
      ]
     },
     "execution_count": 18,
     "metadata": {},
     "output_type": "execute_result"
    }
   ],
   "source": [
    "data_requests_log_id=\"\"\"\n",
    "SELECT MAX(id)+1 as id_val from stg_data_genie.data_requests_log;\"\"\"\n",
    "id_val=pr.redshift_to_pandas(data_requests_log_id)\n",
    "id_val=id_val['id_val'][0]\n",
    "id_val"
   ]
  },
  {
   "cell_type": "code",
   "execution_count": 19,
   "metadata": {},
   "outputs": [],
   "source": [
    "data_request1=\"\"\"\n",
    "SELECT {attributes_str}\n",
    "FROM xxx\n",
    "LEFT JOIN xxx p\n",
    "\tON vuab.provider_buyer_name = p.provider_buyer_id\n",
    "LEFT JOIN xxx ss\n",
    "\tON vuab.conversion_status_id = ss.survey_status_id\n",
    "WHERE {filters_str};\n",
    "\"\"\".format(attributes_str=attributes_str,\n",
    "           filters_str=filters_str)"
   ]
  },
  {
   "cell_type": "code",
   "execution_count": 20,
   "metadata": {},
   "outputs": [
    {
     "name": "stdout",
     "output_type": "stream",
     "text": [
      "\n",
      "SELECT CASE WHEN vuab.provider_id != 18 THEN vuab.provider_name WHEN vuab.provider_id = 18 THEN p.provider_buyer_name END AS provider, vuab.activity_id AS survey_id, vuab.user_id, vuab.click_event_datetime_pt, CASE WHEN vuab.conversion_status_id IS NULL THEN 'DropOff' ELSE CONCAT(CONCAT(ss.survey_status_id, ' '), ss.survey_status_name) END AS survey_status_name\n",
      "FROM prd_edw.vw_uab_silver vuab\n",
      "LEFT JOIN prd_edw.dim_disqo_audience_provider_buyer p\n",
      "\tON vuab.provider_buyer_name = p.provider_buyer_id\n",
      "LEFT JOIN prd_edw.dim_survey_status ss\n",
      "\tON vuab.conversion_status_id = ss.survey_status_id\n",
      "WHERE provider in ('Think Now') and DATE(vuab.click_event_datetime_pt) >= '2022-02-03 00:00:00' and DATE(vuab.click_event_datetime_pt) <= '2022-02-03 00:00:00' and vuab.conversion_status_id IS NULL;\n",
      "\n"
     ]
    }
   ],
   "source": [
    "print(data_request1)"
   ]
  },
  {
   "cell_type": "code",
   "execution_count": 21,
   "metadata": {},
   "outputs": [],
   "source": [
    "data_requests_log_insert=\"\"\"\n",
    "INSERT INTO stg_data_genie.data_requests_log\n",
    "(id, DR_type, request_date, analyst_initials, requester_initials, request_subject, \n",
    " salt, create_timestamp, table_name, query)\n",
    "VALUES (\n",
    "  {id_val},\n",
    "  '{DR_type}',\n",
    "  '{request_date}',\n",
    "  '{analyst_initials}',\n",
    "  '{requester_initials}',\n",
    "  '{request_subject}',\n",
    "  '{salt}',\n",
    "  '{create_timestamp}',\n",
    "  '{table_name}',\n",
    "  '{query}');\n",
    "\"\"\".format(id_val=id_val,\n",
    "           DR_type='API2',\n",
    "           request_date=date,\n",
    "           analyst_initials='PG',\n",
    "           requester_initials=initials,\n",
    "           request_subject=subject,\n",
    "           salt='',\n",
    "           create_timestamp=dt.datetime.utcnow(),\n",
    "           table_name='N/A',\n",
    "           query='N/A')\n",
    "pr.exec_commit(data_requests_log_insert) "
   ]
  },
  {
   "cell_type": "code",
   "execution_count": 22,
   "metadata": {},
   "outputs": [
    {
     "name": "stdout",
     "output_type": "stream",
     "text": [
      "minutes to complete query: 0\n"
     ]
    }
   ],
   "source": [
    "start=dt.datetime.now()\n",
    "\n",
    "data_request=pr.redshift_to_pandas(data_request1)\n",
    "\n",
    "end=dt.datetime.now()\n",
    "print('minutes to complete query:', (end-start).seconds//60)"
   ]
  },
  {
   "cell_type": "markdown",
   "metadata": {},
   "source": [
    "#### Review & Export"
   ]
  },
  {
   "cell_type": "code",
   "execution_count": 23,
   "metadata": {},
   "outputs": [
    {
     "data": {
      "text/html": [
       "<div>\n",
       "<style scoped>\n",
       "    .dataframe tbody tr th:only-of-type {\n",
       "        vertical-align: middle;\n",
       "    }\n",
       "\n",
       "    .dataframe tbody tr th {\n",
       "        vertical-align: top;\n",
       "    }\n",
       "\n",
       "    .dataframe thead th {\n",
       "        text-align: right;\n",
       "    }\n",
       "</style>\n",
       "<table border=\"1\" class=\"dataframe\">\n",
       "  <thead>\n",
       "    <tr style=\"text-align: right;\">\n",
       "      <th></th>\n",
       "      <th>provider</th>\n",
       "      <th>survey_id</th>\n",
       "      <th>user_id</th>\n",
       "      <th>click_event_datetime_pt</th>\n",
       "      <th>survey_status_name</th>\n",
       "    </tr>\n",
       "  </thead>\n",
       "  <tbody>\n",
       "    <tr>\n",
       "      <th>0</th>\n",
       "      <td>Think Now</td>\n",
       "      <td>64000-gQ9qta</td>\n",
       "      <td>23848498</td>\n",
       "      <td>2022-02-03 13:02:01</td>\n",
       "      <td>DropOff</td>\n",
       "    </tr>\n",
       "    <tr>\n",
       "      <th>1</th>\n",
       "      <td>Think Now</td>\n",
       "      <td>64000-HzeLJI</td>\n",
       "      <td>24092032</td>\n",
       "      <td>2022-02-03 12:19:30</td>\n",
       "      <td>DropOff</td>\n",
       "    </tr>\n",
       "    <tr>\n",
       "      <th>2</th>\n",
       "      <td>Think Now</td>\n",
       "      <td>64000-PrgAxL</td>\n",
       "      <td>22805018</td>\n",
       "      <td>2022-02-03 12:20:28</td>\n",
       "      <td>DropOff</td>\n",
       "    </tr>\n",
       "    <tr>\n",
       "      <th>3</th>\n",
       "      <td>Think Now</td>\n",
       "      <td>64000-wdgWVs</td>\n",
       "      <td>23978812</td>\n",
       "      <td>2022-02-03 07:42:27</td>\n",
       "      <td>DropOff</td>\n",
       "    </tr>\n",
       "    <tr>\n",
       "      <th>4</th>\n",
       "      <td>Think Now</td>\n",
       "      <td>64000-epr1oM</td>\n",
       "      <td>24119548</td>\n",
       "      <td>2022-02-03 07:44:21</td>\n",
       "      <td>DropOff</td>\n",
       "    </tr>\n",
       "  </tbody>\n",
       "</table>\n",
       "</div>"
      ],
      "text/plain": [
       "    provider     survey_id   user_id click_event_datetime_pt  \\\n",
       "0  Think Now  64000-gQ9qta  23848498     2022-02-03 13:02:01   \n",
       "1  Think Now  64000-HzeLJI  24092032     2022-02-03 12:19:30   \n",
       "2  Think Now  64000-PrgAxL  22805018     2022-02-03 12:20:28   \n",
       "3  Think Now  64000-wdgWVs  23978812     2022-02-03 07:42:27   \n",
       "4  Think Now  64000-epr1oM  24119548     2022-02-03 07:44:21   \n",
       "\n",
       "  survey_status_name  \n",
       "0            DropOff  \n",
       "1            DropOff  \n",
       "2            DropOff  \n",
       "3            DropOff  \n",
       "4            DropOff  "
      ]
     },
     "execution_count": 23,
     "metadata": {},
     "output_type": "execute_result"
    }
   ],
   "source": [
    "data_request.head()"
   ]
  },
  {
   "cell_type": "code",
   "execution_count": 24,
   "metadata": {},
   "outputs": [],
   "source": [
    "export_folder=\"/Users/peter.gurka/Google Drive/My Drive/Self Serve Reporting/API 2 API Project Data Request/Outputs/\""
   ]
  },
  {
   "cell_type": "code",
   "execution_count": 25,
   "metadata": {},
   "outputs": [],
   "source": [
    "csv_export_1 = export_folder + \"\"\"API2_{0}_{1}_{2}_{3}.csv\"\"\".format(initials, subject, date, rand)"
   ]
  },
  {
   "cell_type": "code",
   "execution_count": 26,
   "metadata": {},
   "outputs": [],
   "source": [
    "data_request.to_csv(csv_export_1)"
   ]
  },
  {
   "cell_type": "code",
   "execution_count": 27,
   "metadata": {},
   "outputs": [],
   "source": [
    "data_requests_log_update=\"\"\"\n",
    "UPDATE stg_data_genie.data_requests_log \n",
    "SET complete_timestamp='{complete_timestamp}'\n",
    "WHERE id={id_val};\n",
    "\"\"\".format(complete_timestamp=dt.datetime.utcnow(),\n",
    "           id_val=id_val)\n",
    "pr.exec_commit(data_requests_log_update)"
   ]
  },
  {
   "cell_type": "code",
   "execution_count": 28,
   "metadata": {},
   "outputs": [],
   "source": [
    "pr.close_up_shop()"
   ]
  },
  {
   "cell_type": "code",
   "execution_count": 29,
   "metadata": {},
   "outputs": [
    {
     "name": "stdout",
     "output_type": "stream",
     "text": [
      "minutes to complete job: 0\n"
     ]
    }
   ],
   "source": [
    "job_end=dt.datetime.utcnow()\n",
    "job_runtime=(job_end-job_start).seconds//60\n",
    "print('minutes to complete job:', job_runtime)"
   ]
  },
  {
   "cell_type": "markdown",
   "metadata": {},
   "source": [
    "#### Post on Slack"
   ]
  },
  {
   "cell_type": "code",
   "execution_count": 30,
   "metadata": {},
   "outputs": [],
   "source": [
    "slack_message_end = \"\"\"{0}'s API2 (CSM) request for {1} has completed in {2} minutes\"\"\"\\\n",
    "                    .format(initials, subject, job_runtime)\n",
    "slack_data = {'text': slack_message_end}"
   ]
  },
  {
   "cell_type": "code",
   "execution_count": 31,
   "metadata": {},
   "outputs": [],
   "source": [
    "response = requests.post(\n",
    "    webhook_url, data = json.dumps(slack_data),\n",
    "    headers={'Content-Type': 'application/json'})\n",
    "if response.status_code != 200:\n",
    "    raise ValueError(\n",
    "        'Request to slack returned an error %s, the response is:\\n%s'\n",
    "        % (response.status_code, response.text))"
   ]
  },
  {
   "cell_type": "code",
   "execution_count": null,
   "metadata": {},
   "outputs": [],
   "source": []
  }
 ],
 "metadata": {
  "kernelspec": {
   "display_name": "Python 3",
   "language": "python",
   "name": "python3"
  },
  "language_info": {
   "codemirror_mode": {
    "name": "ipython",
    "version": 3
   },
   "file_extension": ".py",
   "mimetype": "text/x-python",
   "name": "python",
   "nbconvert_exporter": "python",
   "pygments_lexer": "ipython3",
   "version": "3.8.5"
  }
 },
 "nbformat": 4,
 "nbformat_minor": 5
}
