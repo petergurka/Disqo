{
 "cells": [
  {
   "cell_type": "code",
   "execution_count": 1,
   "metadata": {},
   "outputs": [],
   "source": [
    "import pandas as pd\n",
    "import numpy as np\n",
    "import datetime as dt\n",
    "import sys\n",
    "import pandas_redshift as pr\n",
    "import json\n",
    "import requests"
   ]
  },
  {
   "cell_type": "code",
   "execution_count": 2,
   "metadata": {},
   "outputs": [],
   "source": [
    "job_start=dt.datetime.utcnow()"
   ]
  },
  {
   "cell_type": "markdown",
   "metadata": {},
   "source": [
    "#### Intake Data"
   ]
  },
  {
   "cell_type": "code",
   "execution_count": 3,
   "metadata": {},
   "outputs": [],
   "source": [
    "input_df=pd.read_excel(\"/Users/peter.gurka/Google Drive/My Drive/Self Serve Reporting/API 1 User Demographic Data Append/Intake Sheet - API1.xlsx\", sheet_name='Data', usecols='A:C')\n",
    "request_df=pd.read_excel(\"/Users/peter.gurka/Google Drive/My Drive/Self Serve Reporting/API 1 User Demographic Data Append/Intake Sheet - API1.xlsx\", sheet_name='Request')"
   ]
  },
  {
   "cell_type": "code",
   "execution_count": 4,
   "metadata": {},
   "outputs": [
    {
     "data": {
      "text/html": [
       "<div>\n",
       "<style scoped>\n",
       "    .dataframe tbody tr th:only-of-type {\n",
       "        vertical-align: middle;\n",
       "    }\n",
       "\n",
       "    .dataframe tbody tr th {\n",
       "        vertical-align: top;\n",
       "    }\n",
       "\n",
       "    .dataframe thead th {\n",
       "        text-align: right;\n",
       "    }\n",
       "</style>\n",
       "<table border=\"1\" class=\"dataframe\">\n",
       "  <thead>\n",
       "    <tr style=\"text-align: right;\">\n",
       "      <th></th>\n",
       "      <th>Field</th>\n",
       "      <th>Value</th>\n",
       "    </tr>\n",
       "  </thead>\n",
       "  <tbody>\n",
       "    <tr>\n",
       "      <th>0</th>\n",
       "      <td>Initials of Requester</td>\n",
       "      <td>HZ</td>\n",
       "    </tr>\n",
       "    <tr>\n",
       "      <th>1</th>\n",
       "      <td>Subject (ClientTopic)</td>\n",
       "      <td>TestingforPeter3</td>\n",
       "    </tr>\n",
       "    <tr>\n",
       "      <th>2</th>\n",
       "      <td>SALT</td>\n",
       "      <td>tF$SOQjjIoFi</td>\n",
       "    </tr>\n",
       "  </tbody>\n",
       "</table>\n",
       "</div>"
      ],
      "text/plain": [
       "                   Field             Value\n",
       "0  Initials of Requester                HZ\n",
       "1  Subject (ClientTopic)  TestingforPeter3\n",
       "2                   SALT      tF$SOQjjIoFi"
      ]
     },
     "execution_count": 4,
     "metadata": {},
     "output_type": "execute_result"
    }
   ],
   "source": [
    "request_df"
   ]
  },
  {
   "cell_type": "code",
   "execution_count": 5,
   "metadata": {},
   "outputs": [
    {
     "data": {
      "text/html": [
       "<div>\n",
       "<style scoped>\n",
       "    .dataframe tbody tr th:only-of-type {\n",
       "        vertical-align: middle;\n",
       "    }\n",
       "\n",
       "    .dataframe tbody tr th {\n",
       "        vertical-align: top;\n",
       "    }\n",
       "\n",
       "    .dataframe thead th {\n",
       "        text-align: right;\n",
       "    }\n",
       "</style>\n",
       "<table border=\"1\" class=\"dataframe\">\n",
       "  <thead>\n",
       "    <tr style=\"text-align: right;\">\n",
       "      <th></th>\n",
       "      <th>FieldNames</th>\n",
       "      <th>UserID</th>\n",
       "      <th>Click_UUID</th>\n",
       "    </tr>\n",
       "  </thead>\n",
       "  <tbody>\n",
       "    <tr>\n",
       "      <th>0</th>\n",
       "      <td>postal_code</td>\n",
       "      <td>16532237</td>\n",
       "      <td>NaN</td>\n",
       "    </tr>\n",
       "    <tr>\n",
       "      <th>1</th>\n",
       "      <td>date_of_birth</td>\n",
       "      <td>21116858</td>\n",
       "      <td>NaN</td>\n",
       "    </tr>\n",
       "    <tr>\n",
       "      <th>2</th>\n",
       "      <td>ethnicity</td>\n",
       "      <td>21789953</td>\n",
       "      <td>NaN</td>\n",
       "    </tr>\n",
       "    <tr>\n",
       "      <th>3</th>\n",
       "      <td>gender</td>\n",
       "      <td>21284787</td>\n",
       "      <td>NaN</td>\n",
       "    </tr>\n",
       "    <tr>\n",
       "      <th>4</th>\n",
       "      <td>firstname</td>\n",
       "      <td>21346632</td>\n",
       "      <td>NaN</td>\n",
       "    </tr>\n",
       "  </tbody>\n",
       "</table>\n",
       "</div>"
      ],
      "text/plain": [
       "      FieldNames    UserID  Click_UUID\n",
       "0    postal_code  16532237         NaN\n",
       "1  date_of_birth  21116858         NaN\n",
       "2      ethnicity  21789953         NaN\n",
       "3         gender  21284787         NaN\n",
       "4      firstname  21346632         NaN"
      ]
     },
     "execution_count": 5,
     "metadata": {},
     "output_type": "execute_result"
    }
   ],
   "source": [
    "input_df.head()"
   ]
  },
  {
   "cell_type": "code",
   "execution_count": 6,
   "metadata": {},
   "outputs": [],
   "source": [
    "date = dt.datetime.today().date()\n",
    "\n",
    "initials = request_df['Value'][0]\n",
    "subject = request_df['Value'][1]\n",
    "salt = request_df['Value'][2]"
   ]
  },
  {
   "cell_type": "code",
   "execution_count": 7,
   "metadata": {},
   "outputs": [],
   "source": [
    "from random import randint\n",
    "rand=randint(1, 99)"
   ]
  },
  {
   "cell_type": "code",
   "execution_count": 8,
   "metadata": {},
   "outputs": [],
   "source": [
    "input_df['FieldNames']=input_df['FieldNames'].replace('date_of_birth', \n",
    "                                                      'datediff(year, date_of_birth, current_date) as age')\n",
    "for children in ['child_1_dob','child_2_dob','child_3_dob','child_4_dob','child_5_dob','child_6_dob',\n",
    "                 'child_7_dob','child_8_dob','child_9_dob']:\n",
    "    input_df['FieldNames']=input_df['FieldNames'].replace(children, \n",
    "                           'datediff(year, coalesce(date({0}), current_date), current_date) as {0}_age'.format(children))\n",
    "fieldnames_list = input_df['FieldNames'].dropna().to_list()\n",
    "fieldnames = ', '.join(fieldnames_list).strip('\"')"
   ]
  },
  {
   "cell_type": "markdown",
   "metadata": {},
   "source": [
    "#### Post on Slack"
   ]
  },
  {
   "cell_type": "code",
   "execution_count": 9,
   "metadata": {},
   "outputs": [],
   "source": [
    "webhook_url = 'https://xxx'"
   ]
  },
  {
   "cell_type": "code",
   "execution_count": 10,
   "metadata": {},
   "outputs": [],
   "source": [
    "slack_message_start = \"\"\"{0}'s API1 request for {1} has started\"\"\".format(initials, subject)\n",
    "slack_data = {'text': slack_message_start}"
   ]
  },
  {
   "cell_type": "code",
   "execution_count": 11,
   "metadata": {},
   "outputs": [],
   "source": [
    "response = requests.post(\n",
    "    webhook_url, data = json.dumps(slack_data),\n",
    "    headers={'Content-Type': 'application/json'})\n",
    "if response.status_code != 200:\n",
    "    raise ValueError(\n",
    "        'Request to slack returned an error %s, the response is:\\n%s'\n",
    "        % (response.status_code, response.text))"
   ]
  },
  {
   "cell_type": "markdown",
   "metadata": {},
   "source": [
    "#### Insert User ID List "
   ]
  },
  {
   "cell_type": "code",
   "execution_count": 1,
   "metadata": {},
   "outputs": [
    {
     "ename": "NameError",
     "evalue": "name 'pr' is not defined",
     "output_type": "error",
     "traceback": [
      "\u001b[0;31m---------------------------------------------------------------------------\u001b[0m",
      "\u001b[0;31mNameError\u001b[0m                                 Traceback (most recent call last)",
      "\u001b[0;32m<ipython-input-1-662efa32e34d>\u001b[0m in \u001b[0;36m<module>\u001b[0;34m\u001b[0m\n\u001b[1;32m      5\u001b[0m \u001b[0mpassword\u001b[0m\u001b[0;34m=\u001b[0m\u001b[0;34m'xxx'\u001b[0m\u001b[0;34m\u001b[0m\u001b[0;34m\u001b[0m\u001b[0m\n\u001b[1;32m      6\u001b[0m \u001b[0;34m\u001b[0m\u001b[0m\n\u001b[0;32m----> 7\u001b[0;31m pr.connect_to_redshift(dbname = dbase,\n\u001b[0m\u001b[1;32m      8\u001b[0m                        \u001b[0mhost\u001b[0m \u001b[0;34m=\u001b[0m \u001b[0mserver\u001b[0m\u001b[0;34m,\u001b[0m\u001b[0;34m\u001b[0m\u001b[0;34m\u001b[0m\u001b[0m\n\u001b[1;32m      9\u001b[0m                        \u001b[0mport\u001b[0m \u001b[0;34m=\u001b[0m \u001b[0mport\u001b[0m\u001b[0;34m,\u001b[0m\u001b[0;34m\u001b[0m\u001b[0;34m\u001b[0m\u001b[0m\n",
      "\u001b[0;31mNameError\u001b[0m: name 'pr' is not defined"
     ]
    }
   ],
   "source": [
    "server='xxx'\n",
    "port='xxx'\n",
    "dbase='xxx'\n",
    "user='xxx'\n",
    "password='xxx'\n",
    "\n",
    "pr.connect_to_redshift(dbname = dbase,\n",
    "                       host = server,\n",
    "                       port = port,\n",
    "                       user = user,\n",
    "                       password = password)"
   ]
  },
  {
   "cell_type": "code",
   "execution_count": 13,
   "metadata": {},
   "outputs": [
    {
     "data": {
      "text/plain": [
       "'API1_UserID_20220214_HZ_TestingforPeter3_93'"
      ]
     },
     "execution_count": 13,
     "metadata": {},
     "output_type": "execute_result"
    }
   ],
   "source": [
    "temptable=\"\"\"API1_UserID_{0}_{1}_{2}_{3}\"\"\".format(date.strftime(\"%Y-%m-%d\").replace(\"-\",\"\"), initials, subject, rand)\n",
    "temptable"
   ]
  },
  {
   "cell_type": "markdown",
   "metadata": {},
   "source": [
    "#### User ID/Click UUID "
   ]
  },
  {
   "cell_type": "code",
   "execution_count": 14,
   "metadata": {},
   "outputs": [],
   "source": [
    "if len(input_df['UserID'].dropna())>0:    \n",
    "    id_type = 'user_id'\n",
    "elif len(input_df['Click_UUID'].dropna())>0:\n",
    "    id_type = 'click_uuid'"
   ]
  },
  {
   "cell_type": "code",
   "execution_count": 15,
   "metadata": {},
   "outputs": [],
   "source": [
    "if id_type == 'user_id':\n",
    "    input_df['UserID_Insert'] = \"('\" + input_df['UserID'].dropna().astype(str) + \"')\"\n",
    "elif id_type == 'click_uuid':\n",
    "    input_df['UserID_Insert'] = \"('\" + input_df['Click_UUID'].dropna().astype(str) + \"')\"\n",
    "    fieldnames = 'a.click_uuid,' + fieldnames\n",
    "\n",
    "userids_list = input_df['UserID_Insert'].dropna().drop_duplicates().to_list()\n",
    "userids = ', '.join(userids_list).strip('\"')"
   ]
  },
  {
   "cell_type": "code",
   "execution_count": 16,
   "metadata": {},
   "outputs": [],
   "source": [
    "if id_type == 'user_id':\n",
    "    click_uuid_str = \"\"\"\n",
    "    CREATE TEMP TABLE {temptable} AS (\n",
    "    SELECT user_id::INTEGER\n",
    "    FROM {temptable}_int);\n",
    "    \"\"\".format(temptable=temptable)\n",
    "\n",
    "elif id_type == 'click_uuid':\n",
    "    click_uuid_str = \"\"\"\n",
    "    CREATE TEMP TABLE {temptable} AS (\n",
    "    SELECT t1.user_id::VARCHAR as click_uuid,\n",
    "           t2.user_id::INTEGER as user_id\n",
    "    FROM {temptable}_int t1\n",
    "    LEFT JOIN prd_edw.vw_uab_silver t2\n",
    "    ON t1.user_id = t2.click_uuid);\n",
    "    \"\"\".format(temptable=temptable)"
   ]
  },
  {
   "cell_type": "code",
   "execution_count": 17,
   "metadata": {},
   "outputs": [],
   "source": [
    "temptable_insert=\"\"\"\n",
    "DROP TABLE IF EXISTS {temptable}_int;\n",
    "\n",
    "CREATE TEMP TABLE {temptable}_int (user_id varchar(256));\n",
    "\n",
    "INSERT INTO {temptable}_int VALUES {userids};\n",
    "\n",
    "{click_uuid_str}\n",
    "\n",
    "SELECT COUNT(*) FROM {temptable};\n",
    "\"\"\".format(temptable=temptable, userids=userids, click_uuid_str=click_uuid_str)"
   ]
  },
  {
   "cell_type": "code",
   "execution_count": 18,
   "metadata": {},
   "outputs": [
    {
     "name": "stdout",
     "output_type": "stream",
     "text": [
      "\n",
      "DROP TABLE IF EXISTS API1_UserID_20220214_HZ_TestingforPeter3_93_int;\n",
      "\n",
      "CREATE TEMP TABLE API1_UserID_20220214_HZ_TestingforPeter3_93_int (user_id varchar(256));\n",
      "\n",
      "INSERT INTO API1_UserID_20220214_HZ_TestingforPeter3_93_int VALUES ('16532237'), ('21116858'), ('21789953'), ('21284787'), ('21346632'), ('21786339'), ('21585290'), ('22000649'), ('21733609'), ('21986164');\n",
      "\n",
      "\n",
      "    CREATE TEMP TABLE API1_UserID_20220214_HZ_TestingforPeter3_93 AS (\n",
      "    SELECT user_id::INTEGER\n",
      "    FROM API1_UserID_20220214_HZ_TestingforPeter3_93_int);\n",
      "    \n",
      "\n",
      "SELECT COUNT(*) FROM API1_UserID_20220214_HZ_TestingforPeter3_93;\n",
      "\n"
     ]
    }
   ],
   "source": [
    "print(temptable_insert)"
   ]
  },
  {
   "cell_type": "code",
   "execution_count": 19,
   "metadata": {},
   "outputs": [
    {
     "name": "stdout",
     "output_type": "stream",
     "text": [
      "number of rows inserted: 10\n",
      "minutes to complete insert: 0\n"
     ]
    }
   ],
   "source": [
    "start=dt.datetime.now()\n",
    "\n",
    "insert_check=pr.redshift_to_pandas(temptable_insert)\n",
    "print(\"number of rows inserted:\", insert_check['count'][0])\n",
    "#cursor.execute(temptable_insert) \n",
    "\n",
    "end=dt.datetime.now()\n",
    "print('minutes to complete insert:', (end-start).seconds//60)"
   ]
  },
  {
   "cell_type": "code",
   "execution_count": 20,
   "metadata": {},
   "outputs": [],
   "source": [
    "#input_df[['UserID']].to_sql(temptable, engine, index=False, if_exists='append')"
   ]
  },
  {
   "cell_type": "code",
   "execution_count": 21,
   "metadata": {},
   "outputs": [
    {
     "data": {
      "text/html": [
       "<div>\n",
       "<style scoped>\n",
       "    .dataframe tbody tr th:only-of-type {\n",
       "        vertical-align: middle;\n",
       "    }\n",
       "\n",
       "    .dataframe tbody tr th {\n",
       "        vertical-align: top;\n",
       "    }\n",
       "\n",
       "    .dataframe thead th {\n",
       "        text-align: right;\n",
       "    }\n",
       "</style>\n",
       "<table border=\"1\" class=\"dataframe\">\n",
       "  <thead>\n",
       "    <tr style=\"text-align: right;\">\n",
       "      <th></th>\n",
       "      <th>user_id</th>\n",
       "    </tr>\n",
       "  </thead>\n",
       "  <tbody>\n",
       "    <tr>\n",
       "      <th>0</th>\n",
       "      <td>16532237</td>\n",
       "    </tr>\n",
       "    <tr>\n",
       "      <th>1</th>\n",
       "      <td>21116858</td>\n",
       "    </tr>\n",
       "    <tr>\n",
       "      <th>2</th>\n",
       "      <td>21789953</td>\n",
       "    </tr>\n",
       "    <tr>\n",
       "      <th>3</th>\n",
       "      <td>21284787</td>\n",
       "    </tr>\n",
       "    <tr>\n",
       "      <th>4</th>\n",
       "      <td>21346632</td>\n",
       "    </tr>\n",
       "  </tbody>\n",
       "</table>\n",
       "</div>"
      ],
      "text/plain": [
       "    user_id\n",
       "0  16532237\n",
       "1  21116858\n",
       "2  21789953\n",
       "3  21284787\n",
       "4  21346632"
      ]
     },
     "execution_count": 21,
     "metadata": {},
     "output_type": "execute_result"
    }
   ],
   "source": [
    "check=\"\"\"\n",
    "SELECT * FROM {temptable} LIMIT 5;\n",
    "\"\"\".format(temptable=temptable)\n",
    "pr.redshift_to_pandas(check)"
   ]
  },
  {
   "cell_type": "markdown",
   "metadata": {},
   "source": [
    "#### Data Request Pull"
   ]
  },
  {
   "cell_type": "code",
   "execution_count": 22,
   "metadata": {},
   "outputs": [
    {
     "data": {
      "text/plain": [
       "'stg_data_genie.API1_20220214_HZ_TestingforPeter3_93'"
      ]
     },
     "execution_count": 22,
     "metadata": {},
     "output_type": "execute_result"
    }
   ],
   "source": [
    "tablename = \"\"\"stg_data_genie.API1_{0}_{1}_{2}_{3}\"\"\".format(date.strftime(\"%Y-%m-%d\").replace(\"-\",\"\"), initials, subject, rand)\n",
    "tablename"
   ]
  },
  {
   "cell_type": "code",
   "execution_count": 23,
   "metadata": {},
   "outputs": [
    {
     "data": {
      "text/plain": [
       "134"
      ]
     },
     "execution_count": 23,
     "metadata": {},
     "output_type": "execute_result"
    }
   ],
   "source": [
    "data_requests_log_id=\"\"\"\n",
    "SELECT MAX(id)+1 as id_val from stg_data_genie.data_requests_log;\"\"\"\n",
    "id_val=pr.redshift_to_pandas(data_requests_log_id)\n",
    "id_val=id_val['id_val'][0]\n",
    "id_val"
   ]
  },
  {
   "cell_type": "code",
   "execution_count": 24,
   "metadata": {},
   "outputs": [],
   "source": [
    "data_request1=\"\"\"\n",
    "drop table if exists {tablename};\n",
    "\n",
    "create table {tablename} as (\n",
    "select  md5(concat(a.user_id, '{salt}')) AS hashed_user_id,\n",
    "        a.user_id as user_id,\n",
    "        {fieldnames}\n",
    "from {temptable} a\n",
    "join xxx b\n",
    "  on a.user_id = b.user_id\n",
    "join xxx c\n",
    "  on a.user_id = c.user_id\n",
    "left join xxx d\n",
    "  on a.user_id=d.user_id\n",
    "  and d.user_id IS NULL\n",
    "LEFT JOIN xxx s\n",
    "    ON a.user_id = s.id\n",
    "  \n",
    "left join (\n",
    "  select  t1.user_id,\n",
    "          listagg(t2.label, ', ') as pets\n",
    "  from xxx t1\n",
    "  joinxxx t2\n",
    "    on t1.number_value=t2.number_value\n",
    "    and t1.question_id=t2.question_id\n",
    "    and t1.question_id = 9\n",
    "  group by 1) e\n",
    "  on a.user_id=e.user_id);\n",
    "\n",
    "select * from {tablename};\n",
    "\"\"\".format(temptable=temptable,\n",
    "           salt=salt,\n",
    "           fieldnames=fieldnames,\n",
    "           tablename=tablename)"
   ]
  },
  {
   "cell_type": "code",
   "execution_count": 25,
   "metadata": {},
   "outputs": [
    {
     "name": "stdout",
     "output_type": "stream",
     "text": [
      "\n",
      "drop table if exists stg_data_genie.API1_20220214_HZ_TestingforPeter3_93;\n",
      "\n",
      "create table stg_data_genie.API1_20220214_HZ_TestingforPeter3_93 as (\n",
      "select  md5(concat(a.user_id, 'tF$SOQjjIoFi')) AS hashed_user_id,\n",
      "        a.user_id as user_id,\n",
      "        postal_code, datediff(year, date_of_birth, current_date) as age, ethnicity, gender, firstname, lastname, phone, lifetime_points, created_at, status\n",
      "from API1_UserID_20220214_HZ_TestingforPeter3_93 a\n",
      "join prd_edw.vw_user_answers_profiles_by_source b\n",
      "  on a.user_id = b.user_id\n",
      "join prd_edw.vw_user_answers_demographics_by_source c\n",
      "  on a.user_id = c.user_id\n",
      "left join prd_edw.user_answers_ccpacompliance_by_source d\n",
      "  on a.user_id=d.user_id\n",
      "  and d.user_id IS NULL\n",
      "LEFT JOIN prd_sj.sj_users s\n",
      "    ON a.user_id = s.id\n",
      "  \n",
      "left join (\n",
      "  select  t1.user_id,\n",
      "          listagg(t2.label, ', ') as pets\n",
      "  from prd_sj.sj_answers t1\n",
      "  join prd_sj.sj_predefined_answers t2\n",
      "    on t1.number_value=t2.number_value\n",
      "    and t1.question_id=t2.question_id\n",
      "    and t1.question_id = 9\n",
      "  group by 1) e\n",
      "  on a.user_id=e.user_id);\n",
      "\n",
      "select * from stg_data_genie.API1_20220214_HZ_TestingforPeter3_93;\n",
      "\n"
     ]
    }
   ],
   "source": [
    "print(data_request1)"
   ]
  },
  {
   "cell_type": "code",
   "execution_count": 26,
   "metadata": {},
   "outputs": [],
   "source": [
    "data_requests_log_insert=\"\"\"\n",
    "INSERT INTO stg_data_genie.data_requests_log\n",
    "(id, DR_type, request_date, analyst_initials, requester_initials, request_subject, \n",
    " salt, create_timestamp, table_name, query)\n",
    "VALUES (\n",
    "  {id_val},\n",
    "  '{DR_type}',\n",
    "  '{request_date}',\n",
    "  '{analyst_initials}',\n",
    "  '{requester_initials}',\n",
    "  '{request_subject}',\n",
    "  '{salt}',\n",
    "  '{create_timestamp}',\n",
    "  '{table_name}',\n",
    "  '{query}');\n",
    "\"\"\".format(id_val=id_val,\n",
    "           DR_type='API1',\n",
    "           request_date=date,\n",
    "           analyst_initials='PG',\n",
    "           requester_initials=initials,\n",
    "           request_subject=subject,\n",
    "           salt=salt,\n",
    "           create_timestamp=dt.datetime.utcnow(),\n",
    "           table_name=tablename,\n",
    "           query=data_request1.replace(\"'\",\"''\"))\n",
    "pr.exec_commit(data_requests_log_insert) "
   ]
  },
  {
   "cell_type": "code",
   "execution_count": null,
   "metadata": {},
   "outputs": [],
   "source": [
    "start=dt.datetime.now()\n",
    "\n",
    "data_request=pr.redshift_to_pandas(data_request1)\n",
    "\n",
    "end=dt.datetime.now()\n",
    "print('minutes to complete query:', (end-start).seconds//60)"
   ]
  },
  {
   "cell_type": "markdown",
   "metadata": {},
   "source": [
    "#### Review & Export"
   ]
  },
  {
   "cell_type": "code",
   "execution_count": null,
   "metadata": {},
   "outputs": [],
   "source": [
    "data_request.head()"
   ]
  },
  {
   "cell_type": "code",
   "execution_count": null,
   "metadata": {},
   "outputs": [],
   "source": [
    "data_request.info()\n",
    "#sys.getsizeof(data_request)"
   ]
  },
  {
   "cell_type": "code",
   "execution_count": 30,
   "metadata": {},
   "outputs": [],
   "source": [
    "export_folder=\"/Users/peter.gurka/Google Drive/My Drive/Self Serve Reporting/API 1 User Demographic Data Append/Outputs/\""
   ]
  },
  {
   "cell_type": "code",
   "execution_count": 31,
   "metadata": {},
   "outputs": [],
   "source": [
    "csv_export_1 = export_folder + \"\"\"API1_{0}_{1}_{2}_{3}_CLIENT.csv\"\"\".format(initials, subject, date, rand)"
   ]
  },
  {
   "cell_type": "code",
   "execution_count": 32,
   "metadata": {},
   "outputs": [],
   "source": [
    "data_request.to_csv(csv_export_1)"
   ]
  },
  {
   "cell_type": "code",
   "execution_count": 33,
   "metadata": {},
   "outputs": [],
   "source": [
    "data_requests_log_update=\"\"\"\n",
    "UPDATE stg_data_genie.data_requests_log \n",
    "SET complete_timestamp='{complete_timestamp}'\n",
    "WHERE id={id_val};\n",
    "\"\"\".format(complete_timestamp=dt.datetime.utcnow(),\n",
    "           id_val=id_val)\n",
    "pr.exec_commit(data_requests_log_update)"
   ]
  },
  {
   "cell_type": "code",
   "execution_count": 34,
   "metadata": {},
   "outputs": [],
   "source": [
    "pr.close_up_shop()"
   ]
  },
  {
   "cell_type": "code",
   "execution_count": 35,
   "metadata": {},
   "outputs": [
    {
     "name": "stdout",
     "output_type": "stream",
     "text": [
      "minutes to complete job: 0\n"
     ]
    }
   ],
   "source": [
    "job_end=dt.datetime.utcnow()\n",
    "job_runtime=(job_end-job_start).seconds//60\n",
    "print('minutes to complete job:', job_runtime)"
   ]
  },
  {
   "cell_type": "markdown",
   "metadata": {},
   "source": [
    "#### Post on Slack"
   ]
  },
  {
   "cell_type": "code",
   "execution_count": 36,
   "metadata": {},
   "outputs": [],
   "source": [
    "slack_message_end = \"\"\"{0}'s API1 request for {1} has completed in {2} minutes\"\"\"\\\n",
    "                    .format(initials, subject, job_runtime)\n",
    "slack_data = {'text': slack_message_end}"
   ]
  },
  {
   "cell_type": "code",
   "execution_count": 37,
   "metadata": {},
   "outputs": [],
   "source": [
    "response = requests.post(\n",
    "    webhook_url, data = json.dumps(slack_data),\n",
    "    headers={'Content-Type': 'application/json'})\n",
    "if response.status_code != 200:\n",
    "    raise ValueError(\n",
    "        'Request to slack returned an error %s, the response is:\\n%s'\n",
    "        % (response.status_code, response.text))"
   ]
  },
  {
   "cell_type": "code",
   "execution_count": null,
   "metadata": {},
   "outputs": [],
   "source": []
  }
 ],
 "metadata": {
  "kernelspec": {
   "display_name": "Python 3",
   "language": "python",
   "name": "python3"
  },
  "language_info": {
   "codemirror_mode": {
    "name": "ipython",
    "version": 3
   },
   "file_extension": ".py",
   "mimetype": "text/x-python",
   "name": "python",
   "nbconvert_exporter": "python",
   "pygments_lexer": "ipython3",
   "version": "3.8.5"
  }
 },
 "nbformat": 4,
 "nbformat_minor": 5
}
